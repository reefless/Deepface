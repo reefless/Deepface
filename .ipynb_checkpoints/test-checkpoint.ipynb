{
 "cells": [
  {
   "cell_type": "code",
   "execution_count": 68,
   "id": "a8f2bce4-8392-497b-9798-2e937ce31a79",
   "metadata": {},
   "outputs": [],
   "source": [
    "from deepface import DeepFace\n",
    "import pandas as pd\n",
    "import cv2"
   ]
  },
  {
   "cell_type": "code",
   "execution_count": 55,
   "id": "2fcd42b2-e531-420f-9681-578a52ca764d",
   "metadata": {},
   "outputs": [],
   "source": [
    "# face = DeepFace.detectFace(img_path = \"Jamestest1.jpg\", target_size = (224, 224))\n",
    "# embedding = DeepFace.represent(img_path = \"Jamestest1.jpg\")"
   ]
  },
  {
   "cell_type": "code",
   "execution_count": 70,
   "id": "8ad7a49c-b1da-4d4d-9ea7-fadbcf2b0067",
   "metadata": {},
   "outputs": [
    {
     "name": "stdout",
     "output_type": "stream",
     "text": [
      "1/1 [==============================] - 0s 56ms/step\n",
      "1/1 [==============================] - 0s 54ms/step\n",
      "1/1 [==============================] - 0s 52ms/step\n",
      "1/1 [==============================] - 0s 62ms/step\n",
      "1/1 [==============================] - 0s 80ms/step\n",
      "1/1 [==============================] - 0s 97ms/step\n",
      "1/1 [==============================] - 0s 61ms/step\n",
      "1/1 [==============================] - 0s 82ms/step\n",
      "1/1 [==============================] - 0s 78ms/step\n",
      "1/1 [==============================] - 0s 61ms/step\n",
      "1/1 [==============================] - 0s 64ms/step\n",
      "1/1 [==============================] - 0s 60ms/step\n",
      "1/1 [==============================] - 0s 50ms/step\n",
      "1/1 [==============================] - 0s 52ms/step\n",
      "1/1 [==============================] - 0s 56ms/step\n",
      "1/1 [==============================] - 0s 52ms/step\n",
      "1/1 [==============================] - 0s 51ms/step\n",
      "1/1 [==============================] - 0s 51ms/step\n",
      "1/1 [==============================] - 0s 59ms/step\n",
      "1/1 [==============================] - 0s 54ms/step\n",
      "1/1 [==============================] - 0s 56ms/step\n",
      "1/1 [==============================] - 0s 58ms/step\n",
      "1/1 [==============================] - 0s 51ms/step\n",
      "1/1 [==============================] - 0s 64ms/step\n",
      "1/1 [==============================] - 0s 52ms/step\n",
      "1/1 [==============================] - 0s 50ms/step\n",
      "1/1 [==============================] - 0s 54ms/step\n",
      "Representations stored in  ./user/database / representations_facenet.pkl  file. Please delete this file when you add new identities in your database.\n",
      "1/1 [==============================] - 0s 56ms/step\n",
      "find function lasts  6.143773794174194  seconds\n"
     ]
    }
   ],
   "source": [
    "df = DeepFace.find(img_path = \"Jamestest1.jpg\", db_path = \"./user/database\", model_name = \"Facenet512\")\n",
    "# df = DeepFace.find(img_path = \"Jamestest1.jpg\", db_path = \"./user/database\")"
   ]
  },
  {
   "cell_type": "code",
   "execution_count": 71,
   "id": "dd664749-61cd-439e-82dc-f02efb9e9d7a",
   "metadata": {},
   "outputs": [
    {
     "name": "stdout",
     "output_type": "stream",
     "text": [
      "18\n"
     ]
    }
   ],
   "source": [
    "row_count = len(df.index)\n",
    "print(len(df.index))"
   ]
  },
  {
   "cell_type": "code",
   "execution_count": 72,
   "id": "a5a2071c-2bf2-4add-a4a1-ac3443b17c23",
   "metadata": {},
   "outputs": [
    {
     "name": "stdout",
     "output_type": "stream",
     "text": [
      "./user/database/James/James12.jpg\n",
      "1/1 [==============================] - 0s 194ms/step\n",
      "1/1 [==============================] - 0s 198ms/step\n",
      "{'verified': True, 'distance': 0.06139805791688746, 'threshold': 0.4, 'model': 'VGG-Face', 'detector_backend': 'opencv', 'similarity_metric': 'cosine'}\n",
      "./user/database/James/James3.jpg\n",
      "1/1 [==============================] - 0s 212ms/step\n",
      "1/1 [==============================] - 0s 224ms/step\n",
      "{'verified': True, 'distance': 0.05503559342468667, 'threshold': 0.4, 'model': 'VGG-Face', 'detector_backend': 'opencv', 'similarity_metric': 'cosine'}\n",
      "./user/database/James/James11.jpg\n",
      "1/1 [==============================] - 0s 212ms/step\n",
      "1/1 [==============================] - 0s 195ms/step\n",
      "{'verified': True, 'distance': 0.06608508545735747, 'threshold': 0.4, 'model': 'VGG-Face', 'detector_backend': 'opencv', 'similarity_metric': 'cosine'}\n",
      "./user/database/James/James4.jpg\n",
      "1/1 [==============================] - 0s 193ms/step\n",
      "1/1 [==============================] - 0s 188ms/step\n",
      "{'verified': True, 'distance': 0.10775875596301077, 'threshold': 0.4, 'model': 'VGG-Face', 'detector_backend': 'opencv', 'similarity_metric': 'cosine'}\n",
      "./user/database/James/James2.jpg\n",
      "1/1 [==============================] - 0s 186ms/step\n",
      "1/1 [==============================] - 0s 194ms/step\n",
      "{'verified': True, 'distance': 0.08953344416417197, 'threshold': 0.4, 'model': 'VGG-Face', 'detector_backend': 'opencv', 'similarity_metric': 'cosine'}\n",
      "./user/database/James/James9.jpg\n",
      "1/1 [==============================] - 0s 186ms/step\n",
      "1/1 [==============================] - 0s 195ms/step\n",
      "{'verified': True, 'distance': 0.08720177271811991, 'threshold': 0.4, 'model': 'VGG-Face', 'detector_backend': 'opencv', 'similarity_metric': 'cosine'}\n",
      "./user/database/James/James1.jpg\n",
      "1/1 [==============================] - 0s 185ms/step\n",
      "1/1 [==============================] - 0s 190ms/step\n",
      "{'verified': True, 'distance': 0.1094086709200841, 'threshold': 0.4, 'model': 'VGG-Face', 'detector_backend': 'opencv', 'similarity_metric': 'cosine'}\n",
      "./user/database/James/James20.jpg\n",
      "1/1 [==============================] - 0s 202ms/step\n",
      "1/1 [==============================] - 0s 198ms/step\n",
      "{'verified': True, 'distance': 0.12037934608744405, 'threshold': 0.4, 'model': 'VGG-Face', 'detector_backend': 'opencv', 'similarity_metric': 'cosine'}\n",
      "./user/database/James/James21.jpg\n",
      "1/1 [==============================] - 0s 197ms/step\n",
      "1/1 [==============================] - 0s 185ms/step\n",
      "{'verified': True, 'distance': 0.1227334609363776, 'threshold': 0.4, 'model': 'VGG-Face', 'detector_backend': 'opencv', 'similarity_metric': 'cosine'}\n",
      "./user/database/James/James10.jpg\n",
      "1/1 [==============================] - 0s 189ms/step\n",
      "1/1 [==============================] - 0s 189ms/step\n",
      "{'verified': True, 'distance': 0.13512577521379876, 'threshold': 0.4, 'model': 'VGG-Face', 'detector_backend': 'opencv', 'similarity_metric': 'cosine'}\n",
      "./user/database/James/James6.jpg\n",
      "1/1 [==============================] - 0s 209ms/step\n",
      "1/1 [==============================] - 0s 224ms/step\n",
      "{'verified': True, 'distance': 0.17576075796594393, 'threshold': 0.4, 'model': 'VGG-Face', 'detector_backend': 'opencv', 'similarity_metric': 'cosine'}\n",
      "./user/database/James/James19.jpg\n",
      "1/1 [==============================] - 0s 201ms/step\n",
      "1/1 [==============================] - 0s 204ms/step\n",
      "{'verified': True, 'distance': 0.13007128757129283, 'threshold': 0.4, 'model': 'VGG-Face', 'detector_backend': 'opencv', 'similarity_metric': 'cosine'}\n",
      "./user/database/James/James5.jpg\n",
      "1/1 [==============================] - 0s 214ms/step\n",
      "1/1 [==============================] - 0s 224ms/step\n",
      "{'verified': True, 'distance': 0.13804120226887928, 'threshold': 0.4, 'model': 'VGG-Face', 'detector_backend': 'opencv', 'similarity_metric': 'cosine'}\n",
      "./user/database/James/James18.jpg\n",
      "1/1 [==============================] - 0s 210ms/step\n",
      "1/1 [==============================] - 0s 204ms/step\n",
      "{'verified': True, 'distance': 0.13431677345030713, 'threshold': 0.4, 'model': 'VGG-Face', 'detector_backend': 'opencv', 'similarity_metric': 'cosine'}\n",
      "./user/database/James/James14.jpg\n",
      "1/1 [==============================] - 0s 191ms/step\n",
      "1/1 [==============================] - 0s 179ms/step\n",
      "{'verified': True, 'distance': 0.21002443897911605, 'threshold': 0.4, 'model': 'VGG-Face', 'detector_backend': 'opencv', 'similarity_metric': 'cosine'}\n",
      "./user/database/James/James7.jpg\n",
      "1/1 [==============================] - 0s 197ms/step\n",
      "1/1 [==============================] - 0s 185ms/step\n",
      "{'verified': True, 'distance': 0.1961642078528001, 'threshold': 0.4, 'model': 'VGG-Face', 'detector_backend': 'opencv', 'similarity_metric': 'cosine'}\n",
      "./user/database/James/James17.jpg\n",
      "1/1 [==============================] - 0s 189ms/step\n",
      "1/1 [==============================] - 0s 193ms/step\n",
      "{'verified': True, 'distance': 0.10997248279575, 'threshold': 0.4, 'model': 'VGG-Face', 'detector_backend': 'opencv', 'similarity_metric': 'cosine'}\n",
      "./user/database/James/James15.jpg\n",
      "1/1 [==============================] - 0s 194ms/step\n",
      "1/1 [==============================] - 0s 189ms/step\n",
      "{'verified': True, 'distance': 0.09759368552124537, 'threshold': 0.4, 'model': 'VGG-Face', 'detector_backend': 'opencv', 'similarity_metric': 'cosine'}\n"
     ]
    }
   ],
   "source": [
    "for i in range(0, row_count):\n",
    "    path = df.iloc[i].identity\n",
    "    print(path)\n",
    "    result = DeepFace.verify(img1_path = \"Jamestest1.jpg\", img2_path = path)\n",
    "    print(result)"
   ]
  },
  {
   "cell_type": "code",
   "execution_count": null,
   "id": "b12e1114-2a12-4bd3-8884-0712a82ca1da",
   "metadata": {},
   "outputs": [],
   "source": []
  }
 ],
 "metadata": {
  "kernelspec": {
   "display_name": "Python 3 (ipykernel)",
   "language": "python",
   "name": "python3"
  },
  "language_info": {
   "codemirror_mode": {
    "name": "ipython",
    "version": 3
   },
   "file_extension": ".py",
   "mimetype": "text/x-python",
   "name": "python",
   "nbconvert_exporter": "python",
   "pygments_lexer": "ipython3",
   "version": "3.9.12"
  }
 },
 "nbformat": 4,
 "nbformat_minor": 5
}
